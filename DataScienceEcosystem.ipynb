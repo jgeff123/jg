{
 "cells": [
  {
   "cell_type": "markdown",
   "id": "33a0fdbc-3abd-4b64-bdd3-83d5ae1cf119",
   "metadata": {},
   "source": [
    "# Data Science Tools and Ecosystem"
   ]
  },
  {
   "cell_type": "markdown",
   "id": "ed47ede6-e55f-42d1-bd2c-4c34466de112",
   "metadata": {},
   "source": [
    "In this notebook, Data Science Tools and Ecosystem are summarized."
   ]
  },
  {
   "cell_type": "markdown",
   "id": "22c3f649-9b32-4fa1-b297-2fc2f603f06c",
   "metadata": {},
   "source": [
    "<b>Objectives: </b>\n",
    "- Data Science Languages\n",
    "- Data Science Libraries\n",
    "- Data Science Tools\n",
    "- Simple Expressions"
   ]
  },
  {
   "cell_type": "markdown",
   "id": "8bb93a0a-45c3-45b3-9942-3a5963838cd2",
   "metadata": {},
   "source": [
    "Some popular Data Science languages include:\n",
    "1. Python\n",
    "2. R\n",
    "3. SQL\n",
    "4. C++\n",
    "5. Java"
   ]
  },
  {
   "cell_type": "markdown",
   "id": "378f457e-80dc-4550-a745-6c09ae4dc86a",
   "metadata": {},
   "source": [
    "Some of the common libraries used by Data Scientist are: \n",
    "1. Pandas\n",
    "2. NumPy\n",
    "3. SciPy"
   ]
  },
  {
   "cell_type": "markdown",
   "id": "8040fce0-8a92-4e6c-b35a-39910feca65f",
   "metadata": {},
   "source": [
    "|Data Science Tools|\n",
    "|-----------------|\n",
    "|Jupyter Notebook |\n",
    "|MySQL |\n",
    "|Tableau |"
   ]
  },
  {
   "cell_type": "markdown",
   "id": "ab6b7523-e669-4dc2-9cbb-08731e23e880",
   "metadata": {},
   "source": [
    "### Here are a few examples of evaluating arithmetic expressions in Python"
   ]
  },
  {
   "cell_type": "markdown",
   "id": "f76439aa-bc21-481c-a2b7-91c9e0b0a3fe",
   "metadata": {},
   "source": [
    "This simple arithmetic expression shows multiplying and adding itegers"
   ]
  },
  {
   "cell_type": "code",
   "execution_count": 12,
   "id": "2c6884b1-51f8-4745-87cb-92ee5a8c0940",
   "metadata": {},
   "outputs": [
    {
     "data": {
      "text/plain": [
       "17"
      ]
     },
     "execution_count": 12,
     "metadata": {},
     "output_type": "execute_result"
    }
   ],
   "source": [
    "(3*4)+5"
   ]
  },
  {
   "cell_type": "markdown",
   "id": "ac74ad22-d24c-4272-aced-2d9489aee756",
   "metadata": {},
   "source": [
    "This will convert 200 minutes to hours by dividing by 60. "
   ]
  },
  {
   "cell_type": "code",
   "execution_count": 15,
   "id": "6339639a-c361-4e8b-ac3a-5994ca34627a",
   "metadata": {},
   "outputs": [
    {
     "data": {
      "text/plain": [
       "3.3333333333333335"
      ]
     },
     "execution_count": 15,
     "metadata": {},
     "output_type": "execute_result"
    }
   ],
   "source": [
    "200/60"
   ]
  },
  {
   "cell_type": "markdown",
   "id": "df7d7f26-4f53-4337-a393-dbe8f3c1c961",
   "metadata": {
    "editable": true,
    "slideshow": {
     "slide_type": ""
    },
    "tags": []
   },
   "source": [
    "## Author\n",
    "Jen Geffre"
   ]
  },
  {
   "cell_type": "code",
   "execution_count": null,
   "id": "a9472b7e-ca50-4126-8dd9-737324f43c19",
   "metadata": {},
   "outputs": [],
   "source": []
  }
 ],
 "metadata": {
  "kernelspec": {
   "display_name": "anaconda-panel-2023.05-py310",
   "language": "python",
   "name": "conda-env-anaconda-panel-2023.05-py310-py"
  },
  "language_info": {
   "codemirror_mode": {
    "name": "ipython",
    "version": 3
   },
   "file_extension": ".py",
   "mimetype": "text/x-python",
   "name": "python",
   "nbconvert_exporter": "python",
   "pygments_lexer": "ipython3",
   "version": "3.11.5"
  }
 },
 "nbformat": 4,
 "nbformat_minor": 5
}
